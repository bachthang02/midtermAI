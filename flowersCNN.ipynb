{
  "nbformat": 4,
  "nbformat_minor": 0,
  "metadata": {
    "colab": {
      "provenance": []
    },
    "kernelspec": {
      "name": "python3",
      "display_name": "Python 3"
    },
    "language_info": {
      "name": "python"
    }
  },
  "cells": [
    {
      "cell_type": "code",
      "execution_count": null,
      "metadata": {
        "id": "3QI03aDjr0ua"
      },
      "outputs": [],
      "source": [
        "import matplotlib.pyplot as plt\n",
        "from keras.layers import LeakyReLU\n",
        "import numpy as np\n",
        "from keras.models import Sequential\n",
        "from keras.layers import Dense, Activation, Dropout, Conv2D, MaxPooling2D, Flatten\n",
        "from keras.utils import to_categorical\n",
        "from keras.models import load_model\n",
        "from keras.utils import load_img, img_to_array\n",
        "import os\n",
        "from keras.preprocessing.image import ImageDataGenerator"
      ]
    },
    {
      "cell_type": "code",
      "source": [
        "train_data=ImageDataGenerator(rescale=1./255, shear_range=0.2, zoom_range=0.2, horizontal_flip=True)"
      ],
      "metadata": {
        "id": "Dk88UJlSr368"
      },
      "execution_count": null,
      "outputs": []
    },
    {
      "cell_type": "code",
      "source": [
        "training_set=train_data.flow_from_directory('/content/drive/MyDrive/flower.train',target_size=(150,150), batch_size=32, class_mode='categorical')"
      ],
      "metadata": {
        "colab": {
          "base_uri": "https://localhost:8080/"
        },
        "id": "MkARj1zMsPRy",
        "outputId": "8a156915-04fc-43a5-abb9-1882140043e5"
      },
      "execution_count": null,
      "outputs": [
        {
          "output_type": "stream",
          "name": "stdout",
          "text": [
            "Found 1001 images belonging to 5 classes.\n"
          ]
        }
      ]
    },
    {
      "cell_type": "code",
      "source": [
        "training_set.class_indices"
      ],
      "metadata": {
        "colab": {
          "base_uri": "https://localhost:8080/"
        },
        "id": "j167BvaBsV8t",
        "outputId": "6ec6a8f0-6253-4c7e-8185-ccd2c8e1c924"
      },
      "execution_count": null,
      "outputs": [
        {
          "output_type": "execute_result",
          "data": {
            "text/plain": [
              "{'Hoa Hướng Dương': 0,\n",
              " 'bồ công anh': 1,\n",
              " 'hoa Cúc ': 2,\n",
              " 'hoa Hồng ': 3,\n",
              " 'hoa Tulip': 4}"
            ]
          },
          "metadata": {},
          "execution_count": 4
        }
      ]
    },
    {
      "cell_type": "code",
      "source": [
        "model=Sequential()\n",
        "model.add(Conv2D(32,kernel_size=(3,3), activation='relu', input_shape=(150,150,3), padding='same')) \n",
        "model.add(LeakyReLU(alpha=0.1))\n",
        "model.add(MaxPooling2D(2,2))\n",
        "\n",
        "model.add(Conv2D(64,kernel_size=(3,3), activation='relu', padding='same'))\n",
        "model.add(LeakyReLU(alpha=0.1)) \n",
        "model.add(MaxPooling2D(2,2))\n",
        "\n",
        "model.add(Conv2D(128,kernel_size=(3,3), activation='relu', padding='same')) \n",
        "model.add(LeakyReLU(alpha=0.1))\n",
        "model.add(MaxPooling2D(2,2))\n",
        "\n",
        "#ANN\n",
        "model.add(Flatten())\n",
        "model.add(Dense(256,activation='relu'))\n",
        "model.add(LeakyReLU(alpha=0.1))\n",
        "model.add(Dense(5,activation='softmax'))\n",
        "\n",
        "#Compile\n",
        "model.compile(loss='categorical_crossentropy',optimizer='Adam',metrics=['accuracy'])\n",
        "model.summary()"
      ],
      "metadata": {
        "colab": {
          "base_uri": "https://localhost:8080/"
        },
        "id": "r7fG0EeBsZGD",
        "outputId": "0060ee2d-a879-4db0-a4c6-ccf03ca2fa89"
      },
      "execution_count": null,
      "outputs": [
        {
          "output_type": "stream",
          "name": "stdout",
          "text": [
            "Model: \"sequential\"\n",
            "_________________________________________________________________\n",
            " Layer (type)                Output Shape              Param #   \n",
            "=================================================================\n",
            " conv2d (Conv2D)             (None, 150, 150, 32)      896       \n",
            "                                                                 \n",
            " leaky_re_lu (LeakyReLU)     (None, 150, 150, 32)      0         \n",
            "                                                                 \n",
            " max_pooling2d (MaxPooling2D  (None, 75, 75, 32)       0         \n",
            " )                                                               \n",
            "                                                                 \n",
            " conv2d_1 (Conv2D)           (None, 75, 75, 64)        18496     \n",
            "                                                                 \n",
            " leaky_re_lu_1 (LeakyReLU)   (None, 75, 75, 64)        0         \n",
            "                                                                 \n",
            " max_pooling2d_1 (MaxPooling  (None, 37, 37, 64)       0         \n",
            " 2D)                                                             \n",
            "                                                                 \n",
            " conv2d_2 (Conv2D)           (None, 37, 37, 128)       73856     \n",
            "                                                                 \n",
            " leaky_re_lu_2 (LeakyReLU)   (None, 37, 37, 128)       0         \n",
            "                                                                 \n",
            " max_pooling2d_2 (MaxPooling  (None, 18, 18, 128)      0         \n",
            " 2D)                                                             \n",
            "                                                                 \n",
            " flatten (Flatten)           (None, 41472)             0         \n",
            "                                                                 \n",
            " dense (Dense)               (None, 256)               10617088  \n",
            "                                                                 \n",
            " leaky_re_lu_3 (LeakyReLU)   (None, 256)               0         \n",
            "                                                                 \n",
            " dense_1 (Dense)             (None, 5)                 1285      \n",
            "                                                                 \n",
            "=================================================================\n",
            "Total params: 10,711,621\n",
            "Trainable params: 10,711,621\n",
            "Non-trainable params: 0\n",
            "_________________________________________________________________\n"
          ]
        }
      ]
    },
    {
      "cell_type": "code",
      "source": [
        "train=model.fit(training_set,epochs=10,batch_size=128,verbose=1)"
      ],
      "metadata": {
        "colab": {
          "base_uri": "https://localhost:8080/"
        },
        "id": "FGDqYsEUscmi",
        "outputId": "09ccf50e-7b21-45c1-a405-f550d4490ec2"
      },
      "execution_count": null,
      "outputs": [
        {
          "output_type": "stream",
          "name": "stdout",
          "text": [
            "Epoch 1/10\n",
            "32/32 [==============================] - 209s 6s/step - loss: 1.6501 - accuracy: 0.3666\n",
            "Epoch 2/10\n",
            "32/32 [==============================] - 73s 2s/step - loss: 1.1278 - accuracy: 0.5395\n",
            "Epoch 3/10\n",
            "32/32 [==============================] - 78s 2s/step - loss: 1.0729 - accuracy: 0.5594\n",
            "Epoch 4/10\n",
            "32/32 [==============================] - 74s 2s/step - loss: 0.9578 - accuracy: 0.6464\n",
            "Epoch 5/10\n",
            "32/32 [==============================] - 71s 2s/step - loss: 0.8749 - accuracy: 0.6623\n",
            "Epoch 6/10\n",
            "32/32 [==============================] - 75s 2s/step - loss: 0.8547 - accuracy: 0.6853\n",
            "Epoch 7/10\n",
            "32/32 [==============================] - 71s 2s/step - loss: 0.7848 - accuracy: 0.7123\n",
            "Epoch 8/10\n",
            "32/32 [==============================] - 73s 2s/step - loss: 0.7199 - accuracy: 0.7253\n",
            "Epoch 9/10\n",
            "32/32 [==============================] - 73s 2s/step - loss: 0.6459 - accuracy: 0.7682\n",
            "Epoch 10/10\n",
            "32/32 [==============================] - 72s 2s/step - loss: 0.6591 - accuracy: 0.7562\n"
          ]
        }
      ]
    },
    {
      "cell_type": "code",
      "source": [
        "Score=model.evaluate(training_set,verbose=0)\n",
        "print('Train Loss', Score[0])\n",
        "print('Train Accuracy', Score[1])"
      ],
      "metadata": {
        "colab": {
          "base_uri": "https://localhost:8080/"
        },
        "id": "kL9dHWz9sfxh",
        "outputId": "db53e862-f602-4ddd-85ff-d24136d6a499"
      },
      "execution_count": null,
      "outputs": [
        {
          "output_type": "stream",
          "name": "stdout",
          "text": [
            "Train Loss 0.5831097364425659\n",
            "Train Accuracy 0.7922077775001526\n"
          ]
        }
      ]
    },
    {
      "cell_type": "code",
      "source": [
        "# Lưu \n",
        "model.save(\"/content/drive/MyDrive/Data_AI/Flower.h5\")"
      ],
      "metadata": {
        "id": "nRFviO1Bx8W7"
      },
      "execution_count": null,
      "outputs": []
    },
    {
      "cell_type": "code",
      "source": [
        "model_1=load_model('/content/drive/MyDrive/Data_AI/Flower.h5')"
      ],
      "metadata": {
        "id": "Sfegr50xyPmy"
      },
      "execution_count": null,
      "outputs": []
    },
    {
      "cell_type": "code",
      "source": [
        "folder=\"/content/drive/MyDrive/Test/\"\n",
        "\n",
        "for i in os.listdir(folder):\n",
        "  img=load_img(folder+i,target_size=(150,150))\n",
        "  plt.imshow(img)\n",
        "  img=img_to_array(img)\n",
        "  img=img.astype('float32')\n",
        "  img=img/255\n",
        "  img=np.expand_dims(img,axis=0)\n",
        "  result=(model_1.predict(img).argmax())\n",
        "  class_name=['Lilly', 'Lotus', 'Orchid', 'Sunflower', 'Tulip']\n",
        "  print(class_name[result])\n",
        "  plt.show()"
      ],
      "metadata": {
        "colab": {
          "base_uri": "https://localhost:8080/",
          "height": 1000
        },
        "id": "BhvuOx-NySQT",
        "outputId": "7f369cc5-b4bf-4bad-adc5-a7e3ec5717d2"
      },
      "execution_count": null,
      "outputs": []
    },
    {
      "cell_type": "code",
      "source": [
        "#Vẽ biểu đồ thể hiện sự mất mát qua số lần train\n",
        "accuracy = train.history['accuracy']\n",
        "loss = train.history['loss']\n",
        "epochs = range(len(accuracy))\n",
        "plt.plot(epochs,loss,'b',label='Training loss')\n",
        "plt.show()  "
      ],
      "metadata": {
        "colab": {
          "base_uri": "https://localhost:8080/",
          "height": 430
        },
        "id": "DZ-O8XkCyh74",
        "outputId": "a47cceec-e7b3-4db4-f6f0-9586669a98d1"
      },
      "execution_count": null,
      "outputs": [
        {
          "output_type": "display_data",
          "data": {
            "text/plain": [
              "<Figure size 640x480 with 1 Axes>"
            ],
            "image/png": "[encoded data removed]"
          },
          "metadata": {}
        }
      ]
    },
    {
      "cell_type": "code",
      "source": [],
      "metadata": {
        "id": "FV9zuh0lzs2N"
      },
      "execution_count": null,
      "outputs": []
    }
  ]
}