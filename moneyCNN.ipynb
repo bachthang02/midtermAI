{
  "nbformat": 4,
  "nbformat_minor": 0,
  "metadata": {
    "colab": {
      "provenance": []
    },
    "kernelspec": {
      "name": "python3",
      "display_name": "Python 3"
    },
    "language_info": {
      "name": "python"
    }
  },
  "cells": [
    {
      "cell_type": "code",
      "execution_count": null,
      "metadata": {
        "id": "ac0izTEVHOxN"
      },
      "outputs": [],
      "source": [
        "import matplotlib.pyplot as plt\n",
        "from keras.layers import LeakyReLU\n",
        "import numpy as np\n",
        "from keras.models import Sequential\n",
        "from keras.layers import Dense, Activation, Dropout, Conv2D, MaxPooling2D, Flatten\n",
        "from keras.utils import to_categorical\n",
        "from keras.models import load_model\n",
        "from keras.utils import load_img, img_to_array\n",
        "import os\n",
        "from keras.preprocessing.image import ImageDataGenerator"
      ]
    },
    {
      "cell_type": "code",
      "source": [
        "train_data=ImageDataGenerator(rescale=1./255, shear_range=0.2, zoom_range=0.2, horizontal_flip=True)"
      ],
      "metadata": {
        "id": "qFWtDs2aHR1y"
      },
      "execution_count": null,
      "outputs": []
    },
    {
      "cell_type": "code",
      "source": [
        "training=train_data.flow_from_directory('/content/drive/MyDrive/money_train',target_size=(150,150), batch_size=32, class_mode='categorical')"
      ],
      "metadata": {
        "colab": {
          "base_uri": "https://localhost:8080/"
        },
        "id": "hF89nu-iHWhW",
        "outputId": "e806a8bd-c185-4c1e-b941-e79b9a8ed561"
      },
      "execution_count": null,
      "outputs": [
        {
          "output_type": "stream",
          "name": "stdout",
          "text": [
            "Found 220 images belonging to 11 classes.\n"
          ]
        }
      ]
    },
    {
      "cell_type": "code",
      "source": [
        "training.class_indices"
      ],
      "metadata": {
        "colab": {
          "base_uri": "https://localhost:8080/"
        },
        "id": "Gj2eXWndHlZ2",
        "outputId": "777b1785-58d5-4b12-9845-88909e3971fc"
      },
      "execution_count": null,
      "outputs": [
        {
          "output_type": "execute_result",
          "data": {
            "text/plain": [
              "{'1000': 0,\n",
              " '10000': 1,\n",
              " '100000': 2,\n",
              " '200': 3,\n",
              " '2000': 4,\n",
              " '20000': 5,\n",
              " '200000': 6,\n",
              " '500': 7,\n",
              " '5000': 8,\n",
              " '50000': 9,\n",
              " '500000': 10}"
            ]
          },
          "metadata": {},
          "execution_count": 13
        }
      ]
    },
    {
      "cell_type": "code",
      "source": [
        "# Tạo ra mạng CNN để train mô hình\n",
        "model=Sequential()\n",
        "model.add(Conv2D(32,kernel_size=(3,3), activation='relu', input_shape=(150,150,3), padding='same')) \n",
        "model.add(LeakyReLU(alpha=0.1))\n",
        "model.add(MaxPooling2D(2,2))\n",
        "\n",
        "model.add(Conv2D(64,kernel_size=(3,3), activation='relu', padding='same'))\n",
        "model.add(LeakyReLU(alpha=0.1)) \n",
        "model.add(MaxPooling2D(2,2))\n",
        "\n",
        "model.add(Conv2D(128,kernel_size=(3,3), activation='relu', padding='same')) \n",
        "model.add(LeakyReLU(alpha=0.1))\n",
        "model.add(MaxPooling2D(2,2))\n",
        "\n",
        "#ANN\n",
        "model.add(Flatten())\n",
        "model.add(Dense(256,activation='relu'))\n",
        "model.add(LeakyReLU(alpha=0.1))\n",
        "model.add(Dense(11,activation='softmax'))\n",
        "\n",
        "#Compile\n",
        "model.compile(loss='categorical_crossentropy',optimizer='Adam',metrics=['accuracy'])\n",
        "model.summary()"
      ],
      "metadata": {
        "colab": {
          "base_uri": "https://localhost:8080/"
        },
        "id": "Ng-YKKe0HoHM",
        "outputId": "b5d453bb-f4ff-40f8-b195-df08f2c4ba85"
      },
      "execution_count": null,
      "outputs": [
        {
          "output_type": "stream",
          "name": "stdout",
          "text": [
            "Model: \"sequential_1\"\n",
            "_________________________________________________________________\n",
            " Layer (type)                Output Shape              Param #   \n",
            "=================================================================\n",
            " conv2d_3 (Conv2D)           (None, 150, 150, 32)      896       \n",
            "                                                                 \n",
            " leaky_re_lu_4 (LeakyReLU)   (None, 150, 150, 32)      0         \n",
            "                                                                 \n",
            " max_pooling2d_3 (MaxPooling  (None, 75, 75, 32)       0         \n",
            " 2D)                                                             \n",
            "                                                                 \n",
            " conv2d_4 (Conv2D)           (None, 75, 75, 64)        18496     \n",
            "                                                                 \n",
            " leaky_re_lu_5 (LeakyReLU)   (None, 75, 75, 64)        0         \n",
            "                                                                 \n",
            " max_pooling2d_4 (MaxPooling  (None, 37, 37, 64)       0         \n",
            " 2D)                                                             \n",
            "                                                                 \n",
            " conv2d_5 (Conv2D)           (None, 37, 37, 128)       73856     \n",
            "                                                                 \n",
            " leaky_re_lu_6 (LeakyReLU)   (None, 37, 37, 128)       0         \n",
            "                                                                 \n",
            " max_pooling2d_5 (MaxPooling  (None, 18, 18, 128)      0         \n",
            " 2D)                                                             \n",
            "                                                                 \n",
            " flatten_1 (Flatten)         (None, 41472)             0         \n",
            "                                                                 \n",
            " dense_2 (Dense)             (None, 256)               10617088  \n",
            "                                                                 \n",
            " leaky_re_lu_7 (LeakyReLU)   (None, 256)               0         \n",
            "                                                                 \n",
            " dense_3 (Dense)             (None, 11)                2827      \n",
            "                                                                 \n",
            "=================================================================\n",
            "Total params: 10,713,163\n",
            "Trainable params: 10,713,163\n",
            "Non-trainable params: 0\n",
            "_________________________________________________________________\n"
          ]
        }
      ]
    },
    {
      "cell_type": "code",
      "source": [
        "train=model.fit(training,epochs=10,batch_size=128,verbose=1)"
      ],
      "metadata": {
        "colab": {
          "base_uri": "https://localhost:8080/"
        },
        "id": "zL5bWtzpHrya",
        "outputId": "843875ae-e5ae-410f-f59e-e0f0c33486b6"
      },
      "execution_count": null,
      "outputs": [
        {
          "output_type": "stream",
          "name": "stdout",
          "text": [
            "Epoch 1/10\n",
            "7/7 [==============================] - 43s 6s/step - loss: 2.7743 - accuracy: 0.1000\n",
            "Epoch 2/10\n",
            "7/7 [==============================] - 17s 2s/step - loss: 2.3674 - accuracy: 0.1091\n",
            "Epoch 3/10\n",
            "7/7 [==============================] - 19s 2s/step - loss: 2.2440 - accuracy: 0.1636\n",
            "Epoch 4/10\n",
            "7/7 [==============================] - 17s 2s/step - loss: 1.9739 - accuracy: 0.2818\n",
            "Epoch 5/10\n",
            "7/7 [==============================] - 17s 2s/step - loss: 1.7806 - accuracy: 0.4091\n",
            "Epoch 6/10\n",
            "7/7 [==============================] - 17s 2s/step - loss: 1.6746 - accuracy: 0.3727\n",
            "Epoch 7/10\n",
            "7/7 [==============================] - 17s 2s/step - loss: 1.4542 - accuracy: 0.5091\n",
            "Epoch 8/10\n",
            "7/7 [==============================] - 17s 2s/step - loss: 1.2547 - accuracy: 0.6182\n",
            "Epoch 9/10\n",
            "7/7 [==============================] - 17s 2s/step - loss: 1.0806 - accuracy: 0.6455\n",
            "Epoch 10/10\n",
            "7/7 [==============================] - 17s 2s/step - loss: 0.9516 - accuracy: 0.6909\n"
          ]
        }
      ]
    },
    {
      "cell_type": "code",
      "source": [
        "# Đánh giá độ chính xác của mô hình \n",
        "Score=model.evaluate(training,verbose=0)\n",
        "print('Train Loss', Score[0])\n",
        "print('Train Accuracy', Score[1])\n",
        "     "
      ],
      "metadata": {
        "colab": {
          "base_uri": "https://localhost:8080/"
        },
        "id": "296pXjNRHv5h",
        "outputId": "f90c2064-57eb-4661-bdd3-fed048753647"
      },
      "execution_count": null,
      "outputs": [
        {
          "output_type": "stream",
          "name": "stdout",
          "text": [
            "Train Loss 0.688621997833252\n",
            "Train Accuracy 0.7772727012634277\n"
          ]
        }
      ]
    },
    {
      "cell_type": "code",
      "source": [
        "# Lưu \n",
        "model.save(\"/content/drive/MyDrive/Data_AI/VN_Money.h5\")"
      ],
      "metadata": {
        "id": "0of0C3cbLFEn"
      },
      "execution_count": null,
      "outputs": []
    },
    {
      "cell_type": "code",
      "source": [
        "model_1=load_model('/content/drive/MyDrive/Data_AI/VN_Money.h5')"
      ],
      "metadata": {
        "id": "68MJdgB5LIR8"
      },
      "execution_count": null,
      "outputs": []
    },
    {
      "cell_type": "code",
      "source": [
        "folder=\"/content/drive/MyDrive/tien_test/\"\n",
        "\n",
        "for i in os.listdir(folder):\n",
        "  img=load_img(folder+i,target_size=(150,150))\n",
        "  plt.imshow(img)\n",
        "  img=img_to_array(img)\n",
        "  img=img.astype('float32')\n",
        "  img=img/255\n",
        "  img=np.expand_dims(img,axis=0)\n",
        "  result=(model_1.predict(img).argmax())\n",
        "  class_name=['1K','10K','100K','200','2k','20K','200K','500','5k','50K','500K']\n",
        "  print(class_name[result])\n",
        "  plt.show()"
      ],
      "metadata": {
        "colab": {
          "base_uri": "https://localhost:8080/",
          "height": 1000
        },
        "id": "PIC0bPXcLJ3u",
        "outputId": "b70f3e54-ed1b-49b5-c46f-bfd215900c33"
      },
      "execution_count": null,
      "outputs": []
    },
    {
      "cell_type": "code",
      "source": [],
      "metadata": {
        "id": "3TVgUYDcLPlz"
      },
      "execution_count": null,
      "outputs": []
    }
  ]
}