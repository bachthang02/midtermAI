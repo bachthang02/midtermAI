{
  "nbformat": 4,
  "nbformat_minor": 0,
  "metadata": {
    "colab": {
      "provenance": []
    },
    "kernelspec": {
      "name": "python3",
      "display_name": "Python 3"
    },
    "language_info": {
      "name": "python"
    }
  },
  "cells": [
    {
      "cell_type": "code",
      "execution_count": null,
      "metadata": {
        "id": "v69bKpUAXj5T"
      },
      "outputs": [],
      "source": [
        "import matplotlib.pyplot as plt\n",
        "from keras.layers import LeakyReLU\n",
        "import numpy as np\n",
        "from keras.models import Sequential\n",
        "from keras.layers import Dense, Activation, Dropout, Conv2D, MaxPooling2D, Flatten\n",
        "from keras.utils import to_categorical\n",
        "from keras.models import load_model\n",
        "from keras.utils import load_img, img_to_array\n",
        "import os\n",
        "from keras.preprocessing.image import ImageDataGenerator"
      ]
    },
    {
      "cell_type": "code",
      "source": [
        "train_data=ImageDataGenerator(rescale=1./255, shear_range=0.2, zoom_range=0.2, horizontal_flip=True)"
      ],
      "metadata": {
        "id": "JyRmGR8qezzR"
      },
      "execution_count": null,
      "outputs": []
    },
    {
      "cell_type": "code",
      "source": [
        "training=train_data.flow_from_directory('/content/drive/MyDrive/đồ ăn. test',target_size=(150,150), batch_size=32, class_mode='categorical')"
      ],
      "metadata": {
        "colab": {
          "base_uri": "https://localhost:8080/"
        },
        "id": "zI63AhSQe6CY",
        "outputId": "ab3d57e8-0576-457a-b177-d547870dd342"
      },
      "execution_count": null,
      "outputs": [
        {
          "output_type": "stream",
          "name": "stdout",
          "text": [
            "Found 476 images belonging to 10 classes.\n"
          ]
        }
      ]
    },
    {
      "cell_type": "code",
      "source": [
        "training.class_indices"
      ],
      "metadata": {
        "id": "WjTUm0T9e9VY",
        "colab": {
          "base_uri": "https://localhost:8080/"
        },
        "outputId": "a1c5f7fc-367c-49bd-c25f-4d86e730b60a"
      },
      "execution_count": null,
      "outputs": [
        {
          "output_type": "execute_result",
          "data": {
            "text/plain": [
              "{'Nem chua ': 0,\n",
              " 'bánh cuốn ': 1,\n",
              " 'bánh giò ': 2,\n",
              " 'bánh mì ': 3,\n",
              " 'bánh pía ': 4,\n",
              " 'bánh riêu': 5,\n",
              " 'bún bò huế': 6,\n",
              " 'cá kho tộ ': 7,\n",
              " 'cháo lòng ': 8,\n",
              " 'cơm tấm ': 9}"
            ]
          },
          "metadata": {},
          "execution_count": 19
        }
      ]
    },
    {
      "cell_type": "code",
      "source": [
        "# Tạo ra mạng CNN để train mô hình\n",
        "model=Sequential()\n",
        "model.add(Conv2D(32,kernel_size=(3,3), activation='relu', input_shape=(150,150,3), padding='same')) \n",
        "model.add(LeakyReLU(alpha=0.1))\n",
        "model.add(MaxPooling2D(2,2))\n",
        "\n",
        "model.add(Conv2D(64,kernel_size=(3,3), activation='relu', padding='same'))\n",
        "model.add(LeakyReLU(alpha=0.1)) \n",
        "model.add(MaxPooling2D(2,2))\n",
        "\n",
        "model.add(Conv2D(128,kernel_size=(3,3), activation='relu', padding='same')) \n",
        "model.add(LeakyReLU(alpha=0.1))\n",
        "model.add(MaxPooling2D(2,2))\n",
        "\n",
        "#ANN\n",
        "model.add(Flatten())\n",
        "model.add(Dense(256,activation='relu'))\n",
        "model.add(LeakyReLU(alpha=0.1))\n",
        "model.add(Dense(10,activation='softmax'))\n",
        "\n",
        "#Compile\n",
        "model.compile(loss='categorical_crossentropy',optimizer='Adam',metrics=['accuracy'])\n",
        "model.summary()"
      ],
      "metadata": {
        "colab": {
          "base_uri": "https://localhost:8080/"
        },
        "id": "liBm0lAyy4Bb",
        "outputId": "238978aa-9606-415b-fba3-70dd24964ab3"
      },
      "execution_count": null,
      "outputs": [
        {
          "output_type": "stream",
          "name": "stdout",
          "text": [
            "Model: \"sequential_2\"\n",
            "_________________________________________________________________\n",
            " Layer (type)                Output Shape              Param #   \n",
            "=================================================================\n",
            " conv2d_8 (Conv2D)           (None, 150, 150, 32)      896       \n",
            "                                                                 \n",
            " leaky_re_lu_10 (LeakyReLU)  (None, 150, 150, 32)      0         \n",
            "                                                                 \n",
            " max_pooling2d_8 (MaxPooling  (None, 75, 75, 32)       0         \n",
            " 2D)                                                             \n",
            "                                                                 \n",
            " conv2d_9 (Conv2D)           (None, 75, 75, 64)        18496     \n",
            "                                                                 \n",
            " leaky_re_lu_11 (LeakyReLU)  (None, 75, 75, 64)        0         \n",
            "                                                                 \n",
            " max_pooling2d_9 (MaxPooling  (None, 37, 37, 64)       0         \n",
            " 2D)                                                             \n",
            "                                                                 \n",
            " conv2d_10 (Conv2D)          (None, 37, 37, 128)       73856     \n",
            "                                                                 \n",
            " leaky_re_lu_12 (LeakyReLU)  (None, 37, 37, 128)       0         \n",
            "                                                                 \n",
            " max_pooling2d_10 (MaxPoolin  (None, 18, 18, 128)      0         \n",
            " g2D)                                                            \n",
            "                                                                 \n",
            " flatten_2 (Flatten)         (None, 41472)             0         \n",
            "                                                                 \n",
            " dense_4 (Dense)             (None, 256)               10617088  \n",
            "                                                                 \n",
            " leaky_re_lu_13 (LeakyReLU)  (None, 256)               0         \n",
            "                                                                 \n",
            " dense_5 (Dense)             (None, 10)                2570      \n",
            "                                                                 \n",
            "=================================================================\n",
            "Total params: 10,712,906\n",
            "Trainable params: 10,712,906\n",
            "Non-trainable params: 0\n",
            "_________________________________________________________________\n"
          ]
        }
      ]
    },
    {
      "cell_type": "code",
      "source": [
        "train=model.fit(training,epochs=10,batch_size=128,verbose=1)\n",
        "     "
      ],
      "metadata": {
        "id": "C51dbPMmy8UO",
        "colab": {
          "base_uri": "https://localhost:8080/"
        },
        "outputId": "3c665eac-93ed-4a21-ed2f-09f7baee9af0"
      },
      "execution_count": null,
      "outputs": [
        {
          "output_type": "stream",
          "name": "stdout",
          "text": [
            "Epoch 1/10\n",
            "15/15 [==============================] - 39s 3s/step - loss: 0.0825 - accuracy: 0.9769\n",
            "Epoch 2/10\n",
            "15/15 [==============================] - 39s 3s/step - loss: 0.0805 - accuracy: 0.9706\n",
            "Epoch 3/10\n",
            "15/15 [==============================] - 39s 3s/step - loss: 0.0578 - accuracy: 0.9853\n",
            "Epoch 4/10\n",
            "15/15 [==============================] - 42s 3s/step - loss: 0.0566 - accuracy: 0.9790\n",
            "Epoch 5/10\n",
            "15/15 [==============================] - 39s 3s/step - loss: 0.0349 - accuracy: 0.9895\n",
            "Epoch 6/10\n",
            "15/15 [==============================] - 40s 2s/step - loss: 0.0359 - accuracy: 0.9853\n",
            "Epoch 7/10\n",
            "15/15 [==============================] - 45s 3s/step - loss: 0.0328 - accuracy: 0.9874\n",
            "Epoch 8/10\n",
            "15/15 [==============================] - 40s 3s/step - loss: 0.0377 - accuracy: 0.9937\n",
            "Epoch 9/10\n",
            "15/15 [==============================] - 40s 3s/step - loss: 0.0489 - accuracy: 0.9853\n",
            "Epoch 10/10\n",
            "15/15 [==============================] - 40s 3s/step - loss: 0.0437 - accuracy: 0.9853\n"
          ]
        }
      ]
    },
    {
      "cell_type": "code",
      "source": [
        " \n",
        "model.save(\"/content/drive/MyDrive/Data_AI/VN_Food.h5\")"
      ],
      "metadata": {
        "id": "rgXMyZIZ58wB"
      },
      "execution_count": null,
      "outputs": []
    },
    {
      "cell_type": "code",
      "source": [
        "model_1=load_model('/content/drive/MyDrive/Data_AI/VN_Food.h5')"
      ],
      "metadata": {
        "id": "RY49kEMSCEZe"
      },
      "execution_count": null,
      "outputs": []
    },
    {
      "cell_type": "code",
      "source": [
        "folder=\"/content/drive/MyDrive/food_test/\"\n",
        "\n",
        "for i in os.listdir(folder):\n",
        "  img=load_img(folder+i,target_size=(150,150))\n",
        "  plt.imshow(img)\n",
        "  img=img_to_array(img)\n",
        "  img=img.astype('float32')\n",
        "  img=img/255\n",
        "  img=np.expand_dims(img,axis=0)\n",
        "  result=(model_1.predict(img).argmax())\n",
        "  class_name=['banhcuon','banhmi','bunbo','banhpia','bunrieu','comtam','cakhoto','chaolong','nemchua','bunbohue']\n",
        "  print(class_name[result])\n",
        "  plt.show()"
      ],
      "metadata": {
        "colab": {
          "base_uri": "https://localhost:8080/",
          "height": 1000
        },
        "id": "8HKE1dGCCJyi",
        "outputId": "f497b1aa-6df1-440f-b853-0a33b85fbe23"
      },
      "execution_count": null,
      "outputs": []
    },
    {
      "cell_type": "code",
      "source": [
        "accuracy = train.history['accuracy']\n",
        "loss = train.history['loss']\n",
        "epochs = range(len(accuracy))\n",
        "plt.plot(epochs,loss,'b',label='Training loss')\n",
        "plt.show()"
      ],
      "metadata": {
        "colab": {
          "base_uri": "https://localhost:8080/",
          "height": 430
        },
        "id": "5GaNht-NGFQn",
        "outputId": "546b4c03-b8d5-43f1-8cbd-53d3e23f0314"
      },
      "execution_count": null,
      "outputs": [
        {
          "output_type": "display_data",
          "data": {
            "text/plain": [
              "<Figure size 640x480 with 1 Axes>"
            ],
            "image/png": "[encoded data removed]"
          },
          "metadata": {}
        }
      ]
    },
    {
      "cell_type": "code",
      "source": [],
      "metadata": {
        "id": "XUcmUS1DGar5"
      },
      "execution_count": null,
      "outputs": []
    }
  ]
}